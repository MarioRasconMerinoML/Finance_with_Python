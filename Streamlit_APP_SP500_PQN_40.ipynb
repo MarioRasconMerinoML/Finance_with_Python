{
 "cells": [
  {
   "cell_type": "markdown",
   "metadata": {},
   "source": [
    "## PQN #040: Build your own market data analytics app in 5 minutes"
   ]
  },
  {
   "cell_type": "markdown",
   "metadata": {},
   "source": [
    "import streamlit as st\n",
    "import pandas as pd\n",
    "import yfinance as yf\n",
    "import talib\n",
    "You can find instructions for installing TA-Lib here."
   ]
  },
  {
   "cell_type": "code",
   "execution_count": 2,
   "metadata": {},
   "outputs": [
    {
     "name": "stderr",
     "output_type": "stream",
     "text": [
      "<>:24: SyntaxWarning: assertion is always true, perhaps remove parentheses?\n",
      "<>:24: SyntaxWarning: assertion is always true, perhaps remove parentheses?\n"
     ]
    },
    {
     "ename": "ModuleNotFoundError",
     "evalue": "No module named 'talib'",
     "output_type": "error",
     "traceback": [
      "\u001b[1;31m---------------------------------------------------------------------------\u001b[0m",
      "\u001b[1;31mModuleNotFoundError\u001b[0m                       Traceback (most recent call last)",
      "\u001b[1;32mc:\\Users\\MRM\\Desktop\\Data_Analytics\\Financial_Python\\Streamlit_APP_SP500.ipynb Cell 3\u001b[0m in \u001b[0;36m7\n\u001b[0;32m      <a href='vscode-notebook-cell:/c%3A/Users/MRM/Desktop/Data_Analytics/Financial_Python/Streamlit_APP_SP500.ipynb#W0sZmlsZQ%3D%3D?line=4'>5</a>\u001b[0m \u001b[39mimport\u001b[39;00m \u001b[39myfinance\u001b[39;00m \u001b[39mas\u001b[39;00m \u001b[39myf\u001b[39;00m\n\u001b[0;32m      <a href='vscode-notebook-cell:/c%3A/Users/MRM/Desktop/Data_Analytics/Financial_Python/Streamlit_APP_SP500.ipynb#W0sZmlsZQ%3D%3D?line=5'>6</a>\u001b[0m \u001b[39mfrom\u001b[39;00m \u001b[39mdatetime\u001b[39;00m \u001b[39mimport\u001b[39;00m datetime\n\u001b[1;32m----> <a href='vscode-notebook-cell:/c%3A/Users/MRM/Desktop/Data_Analytics/Financial_Python/Streamlit_APP_SP500.ipynb#W0sZmlsZQ%3D%3D?line=6'>7</a>\u001b[0m \u001b[39mimport\u001b[39;00m \u001b[39mtalib\u001b[39;00m\n\u001b[0;32m      <a href='vscode-notebook-cell:/c%3A/Users/MRM/Desktop/Data_Analytics/Financial_Python/Streamlit_APP_SP500.ipynb#W0sZmlsZQ%3D%3D?line=8'>9</a>\u001b[0m \u001b[39m# Scrap table indicators from Wikipedia\u001b[39;00m\n\u001b[0;32m     <a href='vscode-notebook-cell:/c%3A/Users/MRM/Desktop/Data_Analytics/Financial_Python/Streamlit_APP_SP500.ipynb#W0sZmlsZQ%3D%3D?line=10'>11</a>\u001b[0m \u001b[39mdef\u001b[39;00m \u001b[39mget_sp500_components\u001b[39m():\n",
      "\u001b[1;31mModuleNotFoundError\u001b[0m: No module named 'talib'"
     ]
    }
   ],
   "source": [
    "# Import libraries\n",
    "import pandas as pd\n",
    "import streamlit as st \n",
    "import numpy as np\n",
    "import yfinance as yf\n",
    "from datetime import datetime\n",
    "import talib\n",
    "\n",
    "# Scrap table indicators from Wikipedia\n",
    "\n",
    "def get_sp500_components():\n",
    "    df = pd.read_html('https://en.wikipedia.org/wiki/List_of_S%26P_500_companies')\n",
    "    df = df[0]\n",
    "    tickers = df['Symbol'].to_list()\n",
    "    tickers_companies_dict = dict(zip(df['Symbol'], df['Security']))\n",
    "    return df, tickers, tickers_companies_dict\n",
    "\n",
    "df,tickers, tick_dict = get_sp500_components()\n",
    "# Add indicators\n",
    "\n",
    "indicators = ['SMA_Short', 'SMA_Long', 'EWMA', 'Relative_Strength_Index']\n",
    "\n",
    "def apply_indicator(indicator, data, window_short = 20, window_long= 120):\n",
    "    assert(window_long > window_short, f\" window_long smaller than window_short\")\n",
    "    if (indicator == 'SMA_Short') | (indicator == 'SMA_Long'):\n",
    "        sma1 = data['Close'].rolling(window=window_short).mean()\n",
    "        sma2 = data['Close'].rolling(window=window_long).mean()\n",
    "        return pd.DataFrame({'Close': data['Close'], 'SMA_Short':sma1, 'SMA_Long':sma2})\n",
    "    elif indicator == 'EWMA':\n",
    "        ewma = data['Close'].ewm(halflife = 0.5, min_periods = window_short).mean()\n",
    "        return pd.DataFrame({'Close': data['Close'], 'EWMA':ewma})\n",
    "    elif indicator == 'Relative_Strength_Index':\n",
    "        rsi = calc_rsi(data, period = window_short)\n",
    "        return pd.DataFrame({'Close': data['Close'], 'RSI':rsi})\n",
    "    \n",
    "def calc_rsi(df, period):\n",
    "    delta = df['Close'].diff()\n",
    "    # Calculate the average gain and average loss for the specified period, with 2 masks\n",
    "    gain = delta.where(delta > 0, 0)\n",
    "    loss = -delta.where(delta < 0, 0)\n",
    "    avg_gain = gain.rolling(period).mean()\n",
    "    avg_loss = loss.rolling(period).mean()\n",
    "    # Calculate the Relative Strength (RS) by dividing the average gain by the average loss\n",
    "    rs = avg_gain / avg_loss\n",
    "\n",
    "    # Calculate the Relative Strength Index (RSI)\n",
    "    rsi = 100 - (100 / (1 + rs))\n",
    "\n",
    "    # Add the RSI to the dataframe\n",
    "    return rsi\n",
    "# Apps Framework\n",
    "\n",
    "\n",
    "st.title('Stock Data Analysis on the S&P500')\n",
    "st.write('Sample App to download stock data and apply technical analysis indicators')\n",
    "\n",
    "st.sidebar.header('Stock Parameters')\n",
    "\n",
    "ticker = st.sidebar.selectbox(\n",
    "    'Ticker', tickers, format_func = tick_dict.get\n",
    ")\n",
    "start = st.sidebar.date_input('Start_Date', pd.Timestamp('2021-01-01'))\n",
    "end = st.sidebar.date_input('End_Date (default is today´s date)', pd.Timestamp(datetime.today().strftime('%Y-%m-%d')))\n",
    "\n",
    "window_short = st.sidebar.number_input('Window Short', min_value=1, \n",
    "                                       max_value=252, value = 20, step = 2)\n",
    "window_long = st.sidebar.number_input('Window Long', min_value=1, max_value=252, \n",
    "                                      value = 120, step= 5)\n",
    "# Download data and create the charts with yfinance\n",
    "data = yf.download(ticker, start, end)\n",
    "\n",
    "\n",
    "selected_indicator = st.selectbox('Select a technical analysis indicator', indicators)\n",
    "indicator_data = apply_indicator(selected_indicator, data, window_short, window_long)\n",
    "\n",
    "st.write(f\"{selected_indicator} for {ticker}\")\n",
    "st.line_chart(indicator_data)\n",
    "\n",
    "st.write(\"stock data for\", ticker)\n",
    "st.dataframe(data)"
   ]
  },
  {
   "attachments": {},
   "cell_type": "markdown",
   "metadata": {},
   "source": [
    "# Instructions\n",
    "\n",
    "Once you have finished your functions, save the file as .py, then go to your terminal and launch the follwing command\n",
    "\n",
    "streamlit run Streamlit_APP_SP500.py"
   ]
  }
 ],
 "metadata": {
  "kernelspec": {
   "display_name": "base",
   "language": "python",
   "name": "python3"
  },
  "language_info": {
   "codemirror_mode": {
    "name": "ipython",
    "version": 3
   },
   "file_extension": ".py",
   "mimetype": "text/x-python",
   "name": "python",
   "nbconvert_exporter": "python",
   "pygments_lexer": "ipython3",
   "version": "3.9.12"
  },
  "orig_nbformat": 4
 },
 "nbformat": 4,
 "nbformat_minor": 2
}
